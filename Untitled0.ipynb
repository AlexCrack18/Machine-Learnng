{
  "nbformat": 4,
  "nbformat_minor": 0,
  "metadata": {
    "colab": {
      "provenance": [],
      "authorship_tag": "ABX9TyNfE+KirFl6O2aGTsbxfXYn",
      "include_colab_link": true
    },
    "kernelspec": {
      "name": "python3",
      "display_name": "Python 3"
    },
    "language_info": {
      "name": "python"
    }
  },
  "cells": [
    {
      "cell_type": "markdown",
      "metadata": {
        "id": "view-in-github",
        "colab_type": "text"
      },
      "source": [
        "<a href=\"https://colab.research.google.com/github/AlexCrack18/Machine-Learnng/blob/main/Untitled0.ipynb\" target=\"_parent\"><img src=\"https://colab.research.google.com/assets/colab-badge.svg\" alt=\"Open In Colab\"/></a>"
      ]
    },
    {
      "cell_type": "code",
      "execution_count": null,
      "metadata": {
        "id": "MxHaan18e6jK"
      },
      "outputs": [],
      "source": [
        "import numpy as np\n",
        "import pandas as pd"
      ]
    },
    {
      "cell_type": "code",
      "source": [
        "college = pd.read_csv(\"College.csv\")\n",
        "college2 = pd.read_csv(\"College.csv\", index_col=0)\n",
        "college3 = college.rename({\"Unnamed: 0\": \"College\"}, axis=1)"
      ],
      "metadata": {
        "id": "IbR2Q_TzfAhQ"
      },
      "execution_count": null,
      "outputs": []
    },
    {
      "cell_type": "code",
      "source": [
        "college = pd.read_csv(\"College.csv\").rename({\"Unnamed: 0\": \"College\"}, axis=1)"
      ],
      "metadata": {
        "id": "_qiqfPpLhK1I"
      },
      "execution_count": null,
      "outputs": []
    },
    {
      "cell_type": "code",
      "source": [
        "college"
      ],
      "metadata": {
        "id": "q1Y_WHfphmkZ"
      },
      "execution_count": null,
      "outputs": []
    },
    {
      "cell_type": "code",
      "source": [
        "college3"
      ],
      "metadata": {
        "id": "JJF3xpcPhnjh"
      },
      "execution_count": null,
      "outputs": []
    },
    {
      "cell_type": "code",
      "source": [
        "college.set_index(\"College\")\n",
        "college"
      ],
      "metadata": {
        "id": "RsoMppWChrv3"
      },
      "execution_count": null,
      "outputs": []
    },
    {
      "cell_type": "code",
      "source": [
        "college2"
      ],
      "metadata": {
        "id": "Gj-mvbb8h3eY"
      },
      "execution_count": null,
      "outputs": []
    },
    {
      "cell_type": "code",
      "source": [
        "college"
      ],
      "metadata": {
        "id": "Oi0FX7Slh7jX"
      },
      "execution_count": null,
      "outputs": []
    },
    {
      "cell_type": "code",
      "source": [
        "college3"
      ],
      "metadata": {
        "id": "W78xXDa7h_Le"
      },
      "execution_count": null,
      "outputs": []
    },
    {
      "cell_type": "code",
      "source": [
        "college2"
      ],
      "metadata": {
        "id": "wD6ELqCniIN7"
      },
      "execution_count": null,
      "outputs": []
    },
    {
      "cell_type": "code",
      "source": [],
      "metadata": {
        "id": "YY9rLBfciJHW"
      },
      "execution_count": null,
      "outputs": []
    },
    {
      "cell_type": "code",
      "source": [
        "college = college.set_index(\"College\")\n",
        "college"
      ],
      "metadata": {
        "id": "Vh1UHywTilLM"
      },
      "execution_count": null,
      "outputs": []
    },
    {
      "cell_type": "code",
      "source": [
        "clear"
      ],
      "metadata": {
        "id": "RIDwUwdYim_R"
      },
      "execution_count": null,
      "outputs": []
    },
    {
      "cell_type": "code",
      "source": [
        "college.describe()"
      ],
      "metadata": {
        "id": "lnu-CVnBipwv"
      },
      "execution_count": null,
      "outputs": []
    },
    {
      "cell_type": "code",
      "source": [
        "pd.plotting.scatter_matrix([college[\"Top10perc\"], college[\"Apps\"]])"
      ],
      "metadata": {
        "id": "qHA6VCq1iwJ2"
      },
      "execution_count": null,
      "outputs": []
    },
    {
      "cell_type": "code",
      "source": [
        "college[\"Top10perc\"]"
      ],
      "metadata": {
        "id": "BbMsYmcAjc36"
      },
      "execution_count": null,
      "outputs": []
    },
    {
      "cell_type": "code",
      "source": [
        "college[\"Adrian College\"]"
      ],
      "metadata": {
        "id": "t7sFOJl2jmuK"
      },
      "execution_count": null,
      "outputs": []
    },
    {
      "cell_type": "code",
      "source": [
        "college[\"Adrian College\"]"
      ],
      "metadata": {
        "id": "Rp8xXrH-jszU"
      },
      "execution_count": null,
      "outputs": []
    },
    {
      "cell_type": "code",
      "source": [
        "college[0]"
      ],
      "metadata": {
        "id": "DSOJiYHkjyAb"
      },
      "execution_count": null,
      "outputs": []
    },
    {
      "cell_type": "code",
      "source": [
        "college"
      ],
      "metadata": {
        "id": "THk7FZ0wj1oA"
      },
      "execution_count": null,
      "outputs": []
    },
    {
      "cell_type": "code",
      "source": [
        "college.loc[\"Adelphi University\":\"Alaska Pacific University\",[\"Top10perc\",\"Apps\",\"Enroll\"]]"
      ],
      "metadata": {
        "id": "ABjIgztej4eg"
      },
      "execution_count": null,
      "outputs": []
    },
    {
      "cell_type": "code",
      "source": [
        "college.loc[\"Harvard University\":,[\"Apps\"]]"
      ],
      "metadata": {
        "id": "oBkfBDMRkyeU"
      },
      "execution_count": null,
      "outputs": []
    },
    {
      "cell_type": "code",
      "source": [
        "pd.plotting.scatter_matrix(college.loc[:,[\"Apps\", \"Top10perc\", \"Enroll\"]])"
      ],
      "metadata": {
        "id": "-Soiuj7Yl4Lw"
      },
      "execution_count": null,
      "outputs": []
    },
    {
      "cell_type": "code",
      "source": [
        "college2 = college"
      ],
      "metadata": {
        "id": "n0-zrhPXmk9j"
      },
      "execution_count": null,
      "outputs": []
    },
    {
      "cell_type": "code",
      "source": [
        "pip install matplotlib"
      ],
      "metadata": {
        "id": "GFQ-slNIqU2i"
      },
      "execution_count": null,
      "outputs": []
    },
    {
      "cell_type": "code",
      "source": [
        "college2['Top10perc'].hist(bins=10)\n",
        "plt.xlabel('Top 10% of class (%)')\n",
        "plt.ylabel('Number of Colleges')\n",
        "plt.title('Distribution of Top10perc')\n",
        "plt.show()"
      ],
      "metadata": {
        "id": "nDZB5WuGqdH1"
      },
      "execution_count": null,
      "outputs": []
    },
    {
      "cell_type": "code",
      "source": [
        "import matplotlib.pyplot as plt"
      ],
      "metadata": {
        "id": "z0bix-guqgT2"
      },
      "execution_count": null,
      "outputs": []
    },
    {
      "cell_type": "code",
      "source": [
        "college2['Top10perc'].hist(bins=20)\n",
        "plt.xlabel('Top 10% of class (%)')\n",
        "plt.ylabel('Number of Colleges')\n",
        "plt.title('Distribution of Top10perc')\n",
        "plt.show()"
      ],
      "metadata": {
        "id": "kn_Vvp8yqmuL"
      },
      "execution_count": null,
      "outputs": []
    },
    {
      "cell_type": "code",
      "source": [
        "college2['Top10perc'].hist(bins=10, orientation='horizontal')\n",
        "plt.ylabel('Top 10% of class (%)')       # now the bin ranges are vertical\n",
        "plt.xlabel('Number of Colleges')         # bar lengths now go along x-axis\n",
        "plt.title('Distribution of Top10perc (Horizontal)')\n",
        "plt.show()"
      ],
      "metadata": {
        "id": "ZKUAQarrqoL5"
      },
      "execution_count": null,
      "outputs": []
    },
    {
      "cell_type": "code",
      "source": [
        "college2[\"Top10perc\"].hist(bins=20)\n",
        "plt.xlabel('Top 10% of class (%)')\n",
        "plt.ylabel('Number of Colleges')\n",
        "plt.title('Distribution of Top10perc (5% Steps)')\n",
        "plt.xticks(range(0,105,5))\n",
        "plt.yticks(range(0,125,5))\n",
        "plt.show()"
      ],
      "metadata": {
        "id": "4m4wrr8ErKj_"
      },
      "execution_count": null,
      "outputs": []
    },
    {
      "cell_type": "code",
      "source": [
        "college.boxplot(\"Outstate\", \"Private\")"
      ],
      "metadata": {
        "id": "0gPYSyGrshTa"
      },
      "execution_count": null,
      "outputs": []
    },
    {
      "cell_type": "code",
      "source": [
        "college2.boxplot(column='Top10perc', by='Private')\n",
        "plt.title('Top10perc by Private/Public')\n",
        " # optional: removes the default extra title\n",
        "plt.xlabel('Private')\n",
        "plt.ylabel('Top 10% of class (%)')\n",
        "plt.show()"
      ],
      "metadata": {
        "id": "8C6BoLcPtPi8"
      },
      "execution_count": null,
      "outputs": []
    },
    {
      "cell_type": "code",
      "source": [
        "college['Top10perc']"
      ],
      "metadata": {
        "id": "mGZpID9PuE6U"
      },
      "execution_count": null,
      "outputs": []
    },
    {
      "cell_type": "code",
      "source": [
        "college[\"Elite\"] = pd.cut(college[\"Top10perc\"], [0,0.5,1], labels=['No', 'Yes'])"
      ],
      "metadata": {
        "id": "WPixAr2ivWZv"
      },
      "execution_count": null,
      "outputs": []
    },
    {
      "cell_type": "code",
      "source": [
        "college[\"Elite\"]"
      ],
      "metadata": {
        "id": "_frSoLNZvcJK"
      },
      "execution_count": null,
      "outputs": []
    },
    {
      "cell_type": "code",
      "source": [
        "college['Elite'] = pd.cut(college['Top10perc'],\n",
        "[-1,50,100],\n",
        "labels=['No', 'Yes'])"
      ],
      "metadata": {
        "id": "7P2lY1BZveIU"
      },
      "execution_count": null,
      "outputs": []
    },
    {
      "cell_type": "code",
      "source": [
        "college[\"Elite\"]"
      ],
      "metadata": {
        "id": "Qlb-o1fSvqFW"
      },
      "execution_count": null,
      "outputs": []
    },
    {
      "cell_type": "code",
      "source": [
        "college[\"Elite\"].value_counts()"
      ],
      "metadata": {
        "id": "oB97LdCMvsQ1"
      },
      "execution_count": null,
      "outputs": []
    },
    {
      "cell_type": "code",
      "source": [
        "college"
      ],
      "metadata": {
        "id": "m7DX9beDvxIK"
      },
      "execution_count": null,
      "outputs": []
    },
    {
      "cell_type": "code",
      "source": [
        "college.boxplot(column=\"Outstate\", by=\"Elite\")\n",
        "plt.show()"
      ],
      "metadata": {
        "id": "H7S_k0YfwQJS"
      },
      "execution_count": null,
      "outputs": []
    },
    {
      "cell_type": "code",
      "source": [
        "clear"
      ],
      "metadata": {
        "id": "tZxw4Jvuwtzp"
      },
      "execution_count": null,
      "outputs": []
    },
    {
      "cell_type": "code",
      "source": [
        "college"
      ],
      "metadata": {
        "colab": {
          "base_uri": "https://localhost:8080/",
          "height": 718
        },
        "id": "5nLR47TfxAYH",
        "outputId": "ca65e59b-c620-4fe6-dc0a-b454d4291e49"
      },
      "execution_count": null,
      "outputs": [
        {
          "output_type": "execute_result",
          "data": {
            "text/plain": [
              "                               Private   Apps  Accept  Enroll  Top10perc  \\\n",
              "College                                                                    \n",
              "Abilene Christian University       Yes   1660    1232     721         23   \n",
              "Adelphi University                 Yes   2186    1924     512         16   \n",
              "Adrian College                     Yes   1428    1097     336         22   \n",
              "Agnes Scott College                Yes    417     349     137         60   \n",
              "Alaska Pacific University          Yes    193     146      55         16   \n",
              "...                                ...    ...     ...     ...        ...   \n",
              "Worcester State College             No   2197    1515     543          4   \n",
              "Xavier University                  Yes   1959    1805     695         24   \n",
              "Xavier University of Louisiana     Yes   2097    1915     695         34   \n",
              "Yale University                    Yes  10705    2453    1317         95   \n",
              "York College of Pennsylvania       Yes   2989    1855     691         28   \n",
              "\n",
              "                                Top25perc  F.Undergrad  P.Undergrad  Outstate  \\\n",
              "College                                                                         \n",
              "Abilene Christian University           52         2885          537      7440   \n",
              "Adelphi University                     29         2683         1227     12280   \n",
              "Adrian College                         50         1036           99     11250   \n",
              "Agnes Scott College                    89          510           63     12960   \n",
              "Alaska Pacific University              44          249          869      7560   \n",
              "...                                   ...          ...          ...       ...   \n",
              "Worcester State College                26         3089         2029      6797   \n",
              "Xavier University                      47         2849         1107     11520   \n",
              "Xavier University of Louisiana         61         2793          166      6900   \n",
              "Yale University                        99         5217           83     19840   \n",
              "York College of Pennsylvania           63         2988         1726      4990   \n",
              "\n",
              "                                Room.Board  Books  Personal  PhD  Terminal  \\\n",
              "College                                                                      \n",
              "Abilene Christian University          3300    450      2200   70        78   \n",
              "Adelphi University                    6450    750      1500   29        30   \n",
              "Adrian College                        3750    400      1165   53        66   \n",
              "Agnes Scott College                   5450    450       875   92        97   \n",
              "Alaska Pacific University             4120    800      1500   76        72   \n",
              "...                                    ...    ...       ...  ...       ...   \n",
              "Worcester State College               3900    500      1200   60        60   \n",
              "Xavier University                     4960    600      1250   73        75   \n",
              "Xavier University of Louisiana        4200    617       781   67        75   \n",
              "Yale University                       6510    630      2115   96        96   \n",
              "York College of Pennsylvania          3560    500      1250   75        75   \n",
              "\n",
              "                                S.F.Ratio  perc.alumni  Expend  Grad.Rate  \\\n",
              "College                                                                     \n",
              "Abilene Christian University         18.1           12    7041         60   \n",
              "Adelphi University                   12.2           16   10527         56   \n",
              "Adrian College                       12.9           30    8735         54   \n",
              "Agnes Scott College                   7.7           37   19016         59   \n",
              "Alaska Pacific University            11.9            2   10922         15   \n",
              "...                                   ...          ...     ...        ...   \n",
              "Worcester State College              21.0           14    4469         40   \n",
              "Xavier University                    13.3           31    9189         83   \n",
              "Xavier University of Louisiana       14.4           20    8323         49   \n",
              "Yale University                       5.8           49   40386         99   \n",
              "York College of Pennsylvania         18.1           28    4509         99   \n",
              "\n",
              "                               Elite  \n",
              "College                               \n",
              "Abilene Christian University      No  \n",
              "Adelphi University                No  \n",
              "Adrian College                    No  \n",
              "Agnes Scott College              Yes  \n",
              "Alaska Pacific University         No  \n",
              "...                              ...  \n",
              "Worcester State College           No  \n",
              "Xavier University                 No  \n",
              "Xavier University of Louisiana    No  \n",
              "Yale University                  Yes  \n",
              "York College of Pennsylvania      No  \n",
              "\n",
              "[777 rows x 19 columns]"
            ],
            "text/html": [
              "\n",
              "  <div id=\"df-302b495d-c812-4c2f-9fd0-6edf208f2569\" class=\"colab-df-container\">\n",
              "    <div>\n",
              "<style scoped>\n",
              "    .dataframe tbody tr th:only-of-type {\n",
              "        vertical-align: middle;\n",
              "    }\n",
              "\n",
              "    .dataframe tbody tr th {\n",
              "        vertical-align: top;\n",
              "    }\n",
              "\n",
              "    .dataframe thead th {\n",
              "        text-align: right;\n",
              "    }\n",
              "</style>\n",
              "<table border=\"1\" class=\"dataframe\">\n",
              "  <thead>\n",
              "    <tr style=\"text-align: right;\">\n",
              "      <th></th>\n",
              "      <th>Private</th>\n",
              "      <th>Apps</th>\n",
              "      <th>Accept</th>\n",
              "      <th>Enroll</th>\n",
              "      <th>Top10perc</th>\n",
              "      <th>Top25perc</th>\n",
              "      <th>F.Undergrad</th>\n",
              "      <th>P.Undergrad</th>\n",
              "      <th>Outstate</th>\n",
              "      <th>Room.Board</th>\n",
              "      <th>Books</th>\n",
              "      <th>Personal</th>\n",
              "      <th>PhD</th>\n",
              "      <th>Terminal</th>\n",
              "      <th>S.F.Ratio</th>\n",
              "      <th>perc.alumni</th>\n",
              "      <th>Expend</th>\n",
              "      <th>Grad.Rate</th>\n",
              "      <th>Elite</th>\n",
              "    </tr>\n",
              "    <tr>\n",
              "      <th>College</th>\n",
              "      <th></th>\n",
              "      <th></th>\n",
              "      <th></th>\n",
              "      <th></th>\n",
              "      <th></th>\n",
              "      <th></th>\n",
              "      <th></th>\n",
              "      <th></th>\n",
              "      <th></th>\n",
              "      <th></th>\n",
              "      <th></th>\n",
              "      <th></th>\n",
              "      <th></th>\n",
              "      <th></th>\n",
              "      <th></th>\n",
              "      <th></th>\n",
              "      <th></th>\n",
              "      <th></th>\n",
              "      <th></th>\n",
              "    </tr>\n",
              "  </thead>\n",
              "  <tbody>\n",
              "    <tr>\n",
              "      <th>Abilene Christian University</th>\n",
              "      <td>Yes</td>\n",
              "      <td>1660</td>\n",
              "      <td>1232</td>\n",
              "      <td>721</td>\n",
              "      <td>23</td>\n",
              "      <td>52</td>\n",
              "      <td>2885</td>\n",
              "      <td>537</td>\n",
              "      <td>7440</td>\n",
              "      <td>3300</td>\n",
              "      <td>450</td>\n",
              "      <td>2200</td>\n",
              "      <td>70</td>\n",
              "      <td>78</td>\n",
              "      <td>18.1</td>\n",
              "      <td>12</td>\n",
              "      <td>7041</td>\n",
              "      <td>60</td>\n",
              "      <td>No</td>\n",
              "    </tr>\n",
              "    <tr>\n",
              "      <th>Adelphi University</th>\n",
              "      <td>Yes</td>\n",
              "      <td>2186</td>\n",
              "      <td>1924</td>\n",
              "      <td>512</td>\n",
              "      <td>16</td>\n",
              "      <td>29</td>\n",
              "      <td>2683</td>\n",
              "      <td>1227</td>\n",
              "      <td>12280</td>\n",
              "      <td>6450</td>\n",
              "      <td>750</td>\n",
              "      <td>1500</td>\n",
              "      <td>29</td>\n",
              "      <td>30</td>\n",
              "      <td>12.2</td>\n",
              "      <td>16</td>\n",
              "      <td>10527</td>\n",
              "      <td>56</td>\n",
              "      <td>No</td>\n",
              "    </tr>\n",
              "    <tr>\n",
              "      <th>Adrian College</th>\n",
              "      <td>Yes</td>\n",
              "      <td>1428</td>\n",
              "      <td>1097</td>\n",
              "      <td>336</td>\n",
              "      <td>22</td>\n",
              "      <td>50</td>\n",
              "      <td>1036</td>\n",
              "      <td>99</td>\n",
              "      <td>11250</td>\n",
              "      <td>3750</td>\n",
              "      <td>400</td>\n",
              "      <td>1165</td>\n",
              "      <td>53</td>\n",
              "      <td>66</td>\n",
              "      <td>12.9</td>\n",
              "      <td>30</td>\n",
              "      <td>8735</td>\n",
              "      <td>54</td>\n",
              "      <td>No</td>\n",
              "    </tr>\n",
              "    <tr>\n",
              "      <th>Agnes Scott College</th>\n",
              "      <td>Yes</td>\n",
              "      <td>417</td>\n",
              "      <td>349</td>\n",
              "      <td>137</td>\n",
              "      <td>60</td>\n",
              "      <td>89</td>\n",
              "      <td>510</td>\n",
              "      <td>63</td>\n",
              "      <td>12960</td>\n",
              "      <td>5450</td>\n",
              "      <td>450</td>\n",
              "      <td>875</td>\n",
              "      <td>92</td>\n",
              "      <td>97</td>\n",
              "      <td>7.7</td>\n",
              "      <td>37</td>\n",
              "      <td>19016</td>\n",
              "      <td>59</td>\n",
              "      <td>Yes</td>\n",
              "    </tr>\n",
              "    <tr>\n",
              "      <th>Alaska Pacific University</th>\n",
              "      <td>Yes</td>\n",
              "      <td>193</td>\n",
              "      <td>146</td>\n",
              "      <td>55</td>\n",
              "      <td>16</td>\n",
              "      <td>44</td>\n",
              "      <td>249</td>\n",
              "      <td>869</td>\n",
              "      <td>7560</td>\n",
              "      <td>4120</td>\n",
              "      <td>800</td>\n",
              "      <td>1500</td>\n",
              "      <td>76</td>\n",
              "      <td>72</td>\n",
              "      <td>11.9</td>\n",
              "      <td>2</td>\n",
              "      <td>10922</td>\n",
              "      <td>15</td>\n",
              "      <td>No</td>\n",
              "    </tr>\n",
              "    <tr>\n",
              "      <th>...</th>\n",
              "      <td>...</td>\n",
              "      <td>...</td>\n",
              "      <td>...</td>\n",
              "      <td>...</td>\n",
              "      <td>...</td>\n",
              "      <td>...</td>\n",
              "      <td>...</td>\n",
              "      <td>...</td>\n",
              "      <td>...</td>\n",
              "      <td>...</td>\n",
              "      <td>...</td>\n",
              "      <td>...</td>\n",
              "      <td>...</td>\n",
              "      <td>...</td>\n",
              "      <td>...</td>\n",
              "      <td>...</td>\n",
              "      <td>...</td>\n",
              "      <td>...</td>\n",
              "      <td>...</td>\n",
              "    </tr>\n",
              "    <tr>\n",
              "      <th>Worcester State College</th>\n",
              "      <td>No</td>\n",
              "      <td>2197</td>\n",
              "      <td>1515</td>\n",
              "      <td>543</td>\n",
              "      <td>4</td>\n",
              "      <td>26</td>\n",
              "      <td>3089</td>\n",
              "      <td>2029</td>\n",
              "      <td>6797</td>\n",
              "      <td>3900</td>\n",
              "      <td>500</td>\n",
              "      <td>1200</td>\n",
              "      <td>60</td>\n",
              "      <td>60</td>\n",
              "      <td>21.0</td>\n",
              "      <td>14</td>\n",
              "      <td>4469</td>\n",
              "      <td>40</td>\n",
              "      <td>No</td>\n",
              "    </tr>\n",
              "    <tr>\n",
              "      <th>Xavier University</th>\n",
              "      <td>Yes</td>\n",
              "      <td>1959</td>\n",
              "      <td>1805</td>\n",
              "      <td>695</td>\n",
              "      <td>24</td>\n",
              "      <td>47</td>\n",
              "      <td>2849</td>\n",
              "      <td>1107</td>\n",
              "      <td>11520</td>\n",
              "      <td>4960</td>\n",
              "      <td>600</td>\n",
              "      <td>1250</td>\n",
              "      <td>73</td>\n",
              "      <td>75</td>\n",
              "      <td>13.3</td>\n",
              "      <td>31</td>\n",
              "      <td>9189</td>\n",
              "      <td>83</td>\n",
              "      <td>No</td>\n",
              "    </tr>\n",
              "    <tr>\n",
              "      <th>Xavier University of Louisiana</th>\n",
              "      <td>Yes</td>\n",
              "      <td>2097</td>\n",
              "      <td>1915</td>\n",
              "      <td>695</td>\n",
              "      <td>34</td>\n",
              "      <td>61</td>\n",
              "      <td>2793</td>\n",
              "      <td>166</td>\n",
              "      <td>6900</td>\n",
              "      <td>4200</td>\n",
              "      <td>617</td>\n",
              "      <td>781</td>\n",
              "      <td>67</td>\n",
              "      <td>75</td>\n",
              "      <td>14.4</td>\n",
              "      <td>20</td>\n",
              "      <td>8323</td>\n",
              "      <td>49</td>\n",
              "      <td>No</td>\n",
              "    </tr>\n",
              "    <tr>\n",
              "      <th>Yale University</th>\n",
              "      <td>Yes</td>\n",
              "      <td>10705</td>\n",
              "      <td>2453</td>\n",
              "      <td>1317</td>\n",
              "      <td>95</td>\n",
              "      <td>99</td>\n",
              "      <td>5217</td>\n",
              "      <td>83</td>\n",
              "      <td>19840</td>\n",
              "      <td>6510</td>\n",
              "      <td>630</td>\n",
              "      <td>2115</td>\n",
              "      <td>96</td>\n",
              "      <td>96</td>\n",
              "      <td>5.8</td>\n",
              "      <td>49</td>\n",
              "      <td>40386</td>\n",
              "      <td>99</td>\n",
              "      <td>Yes</td>\n",
              "    </tr>\n",
              "    <tr>\n",
              "      <th>York College of Pennsylvania</th>\n",
              "      <td>Yes</td>\n",
              "      <td>2989</td>\n",
              "      <td>1855</td>\n",
              "      <td>691</td>\n",
              "      <td>28</td>\n",
              "      <td>63</td>\n",
              "      <td>2988</td>\n",
              "      <td>1726</td>\n",
              "      <td>4990</td>\n",
              "      <td>3560</td>\n",
              "      <td>500</td>\n",
              "      <td>1250</td>\n",
              "      <td>75</td>\n",
              "      <td>75</td>\n",
              "      <td>18.1</td>\n",
              "      <td>28</td>\n",
              "      <td>4509</td>\n",
              "      <td>99</td>\n",
              "      <td>No</td>\n",
              "    </tr>\n",
              "  </tbody>\n",
              "</table>\n",
              "<p>777 rows × 19 columns</p>\n",
              "</div>\n",
              "    <div class=\"colab-df-buttons\">\n",
              "\n",
              "  <div class=\"colab-df-container\">\n",
              "    <button class=\"colab-df-convert\" onclick=\"convertToInteractive('df-302b495d-c812-4c2f-9fd0-6edf208f2569')\"\n",
              "            title=\"Convert this dataframe to an interactive table.\"\n",
              "            style=\"display:none;\">\n",
              "\n",
              "  <svg xmlns=\"http://www.w3.org/2000/svg\" height=\"24px\" viewBox=\"0 -960 960 960\">\n",
              "    <path d=\"M120-120v-720h720v720H120Zm60-500h600v-160H180v160Zm220 220h160v-160H400v160Zm0 220h160v-160H400v160ZM180-400h160v-160H180v160Zm440 0h160v-160H620v160ZM180-180h160v-160H180v160Zm440 0h160v-160H620v160Z\"/>\n",
              "  </svg>\n",
              "    </button>\n",
              "\n",
              "  <style>\n",
              "    .colab-df-container {\n",
              "      display:flex;\n",
              "      gap: 12px;\n",
              "    }\n",
              "\n",
              "    .colab-df-convert {\n",
              "      background-color: #E8F0FE;\n",
              "      border: none;\n",
              "      border-radius: 50%;\n",
              "      cursor: pointer;\n",
              "      display: none;\n",
              "      fill: #1967D2;\n",
              "      height: 32px;\n",
              "      padding: 0 0 0 0;\n",
              "      width: 32px;\n",
              "    }\n",
              "\n",
              "    .colab-df-convert:hover {\n",
              "      background-color: #E2EBFA;\n",
              "      box-shadow: 0px 1px 2px rgba(60, 64, 67, 0.3), 0px 1px 3px 1px rgba(60, 64, 67, 0.15);\n",
              "      fill: #174EA6;\n",
              "    }\n",
              "\n",
              "    .colab-df-buttons div {\n",
              "      margin-bottom: 4px;\n",
              "    }\n",
              "\n",
              "    [theme=dark] .colab-df-convert {\n",
              "      background-color: #3B4455;\n",
              "      fill: #D2E3FC;\n",
              "    }\n",
              "\n",
              "    [theme=dark] .colab-df-convert:hover {\n",
              "      background-color: #434B5C;\n",
              "      box-shadow: 0px 1px 3px 1px rgba(0, 0, 0, 0.15);\n",
              "      filter: drop-shadow(0px 1px 2px rgba(0, 0, 0, 0.3));\n",
              "      fill: #FFFFFF;\n",
              "    }\n",
              "  </style>\n",
              "\n",
              "    <script>\n",
              "      const buttonEl =\n",
              "        document.querySelector('#df-302b495d-c812-4c2f-9fd0-6edf208f2569 button.colab-df-convert');\n",
              "      buttonEl.style.display =\n",
              "        google.colab.kernel.accessAllowed ? 'block' : 'none';\n",
              "\n",
              "      async function convertToInteractive(key) {\n",
              "        const element = document.querySelector('#df-302b495d-c812-4c2f-9fd0-6edf208f2569');\n",
              "        const dataTable =\n",
              "          await google.colab.kernel.invokeFunction('convertToInteractive',\n",
              "                                                    [key], {});\n",
              "        if (!dataTable) return;\n",
              "\n",
              "        const docLinkHtml = 'Like what you see? Visit the ' +\n",
              "          '<a target=\"_blank\" href=https://colab.research.google.com/notebooks/data_table.ipynb>data table notebook</a>'\n",
              "          + ' to learn more about interactive tables.';\n",
              "        element.innerHTML = '';\n",
              "        dataTable['output_type'] = 'display_data';\n",
              "        await google.colab.output.renderOutput(dataTable, element);\n",
              "        const docLink = document.createElement('div');\n",
              "        docLink.innerHTML = docLinkHtml;\n",
              "        element.appendChild(docLink);\n",
              "      }\n",
              "    </script>\n",
              "  </div>\n",
              "\n",
              "\n",
              "    <div id=\"df-19e83abd-0a0e-4ea8-9c48-18ecf3796557\">\n",
              "      <button class=\"colab-df-quickchart\" onclick=\"quickchart('df-19e83abd-0a0e-4ea8-9c48-18ecf3796557')\"\n",
              "                title=\"Suggest charts\"\n",
              "                style=\"display:none;\">\n",
              "\n",
              "<svg xmlns=\"http://www.w3.org/2000/svg\" height=\"24px\"viewBox=\"0 0 24 24\"\n",
              "     width=\"24px\">\n",
              "    <g>\n",
              "        <path d=\"M19 3H5c-1.1 0-2 .9-2 2v14c0 1.1.9 2 2 2h14c1.1 0 2-.9 2-2V5c0-1.1-.9-2-2-2zM9 17H7v-7h2v7zm4 0h-2V7h2v10zm4 0h-2v-4h2v4z\"/>\n",
              "    </g>\n",
              "</svg>\n",
              "      </button>\n",
              "\n",
              "<style>\n",
              "  .colab-df-quickchart {\n",
              "      --bg-color: #E8F0FE;\n",
              "      --fill-color: #1967D2;\n",
              "      --hover-bg-color: #E2EBFA;\n",
              "      --hover-fill-color: #174EA6;\n",
              "      --disabled-fill-color: #AAA;\n",
              "      --disabled-bg-color: #DDD;\n",
              "  }\n",
              "\n",
              "  [theme=dark] .colab-df-quickchart {\n",
              "      --bg-color: #3B4455;\n",
              "      --fill-color: #D2E3FC;\n",
              "      --hover-bg-color: #434B5C;\n",
              "      --hover-fill-color: #FFFFFF;\n",
              "      --disabled-bg-color: #3B4455;\n",
              "      --disabled-fill-color: #666;\n",
              "  }\n",
              "\n",
              "  .colab-df-quickchart {\n",
              "    background-color: var(--bg-color);\n",
              "    border: none;\n",
              "    border-radius: 50%;\n",
              "    cursor: pointer;\n",
              "    display: none;\n",
              "    fill: var(--fill-color);\n",
              "    height: 32px;\n",
              "    padding: 0;\n",
              "    width: 32px;\n",
              "  }\n",
              "\n",
              "  .colab-df-quickchart:hover {\n",
              "    background-color: var(--hover-bg-color);\n",
              "    box-shadow: 0 1px 2px rgba(60, 64, 67, 0.3), 0 1px 3px 1px rgba(60, 64, 67, 0.15);\n",
              "    fill: var(--button-hover-fill-color);\n",
              "  }\n",
              "\n",
              "  .colab-df-quickchart-complete:disabled,\n",
              "  .colab-df-quickchart-complete:disabled:hover {\n",
              "    background-color: var(--disabled-bg-color);\n",
              "    fill: var(--disabled-fill-color);\n",
              "    box-shadow: none;\n",
              "  }\n",
              "\n",
              "  .colab-df-spinner {\n",
              "    border: 2px solid var(--fill-color);\n",
              "    border-color: transparent;\n",
              "    border-bottom-color: var(--fill-color);\n",
              "    animation:\n",
              "      spin 1s steps(1) infinite;\n",
              "  }\n",
              "\n",
              "  @keyframes spin {\n",
              "    0% {\n",
              "      border-color: transparent;\n",
              "      border-bottom-color: var(--fill-color);\n",
              "      border-left-color: var(--fill-color);\n",
              "    }\n",
              "    20% {\n",
              "      border-color: transparent;\n",
              "      border-left-color: var(--fill-color);\n",
              "      border-top-color: var(--fill-color);\n",
              "    }\n",
              "    30% {\n",
              "      border-color: transparent;\n",
              "      border-left-color: var(--fill-color);\n",
              "      border-top-color: var(--fill-color);\n",
              "      border-right-color: var(--fill-color);\n",
              "    }\n",
              "    40% {\n",
              "      border-color: transparent;\n",
              "      border-right-color: var(--fill-color);\n",
              "      border-top-color: var(--fill-color);\n",
              "    }\n",
              "    60% {\n",
              "      border-color: transparent;\n",
              "      border-right-color: var(--fill-color);\n",
              "    }\n",
              "    80% {\n",
              "      border-color: transparent;\n",
              "      border-right-color: var(--fill-color);\n",
              "      border-bottom-color: var(--fill-color);\n",
              "    }\n",
              "    90% {\n",
              "      border-color: transparent;\n",
              "      border-bottom-color: var(--fill-color);\n",
              "    }\n",
              "  }\n",
              "</style>\n",
              "\n",
              "      <script>\n",
              "        async function quickchart(key) {\n",
              "          const quickchartButtonEl =\n",
              "            document.querySelector('#' + key + ' button');\n",
              "          quickchartButtonEl.disabled = true;  // To prevent multiple clicks.\n",
              "          quickchartButtonEl.classList.add('colab-df-spinner');\n",
              "          try {\n",
              "            const charts = await google.colab.kernel.invokeFunction(\n",
              "                'suggestCharts', [key], {});\n",
              "          } catch (error) {\n",
              "            console.error('Error during call to suggestCharts:', error);\n",
              "          }\n",
              "          quickchartButtonEl.classList.remove('colab-df-spinner');\n",
              "          quickchartButtonEl.classList.add('colab-df-quickchart-complete');\n",
              "        }\n",
              "        (() => {\n",
              "          let quickchartButtonEl =\n",
              "            document.querySelector('#df-19e83abd-0a0e-4ea8-9c48-18ecf3796557 button');\n",
              "          quickchartButtonEl.style.display =\n",
              "            google.colab.kernel.accessAllowed ? 'block' : 'none';\n",
              "        })();\n",
              "      </script>\n",
              "    </div>\n",
              "\n",
              "  <div id=\"id_52e827ed-f37a-4cd6-8756-5760acff998a\">\n",
              "    <style>\n",
              "      .colab-df-generate {\n",
              "        background-color: #E8F0FE;\n",
              "        border: none;\n",
              "        border-radius: 50%;\n",
              "        cursor: pointer;\n",
              "        display: none;\n",
              "        fill: #1967D2;\n",
              "        height: 32px;\n",
              "        padding: 0 0 0 0;\n",
              "        width: 32px;\n",
              "      }\n",
              "\n",
              "      .colab-df-generate:hover {\n",
              "        background-color: #E2EBFA;\n",
              "        box-shadow: 0px 1px 2px rgba(60, 64, 67, 0.3), 0px 1px 3px 1px rgba(60, 64, 67, 0.15);\n",
              "        fill: #174EA6;\n",
              "      }\n",
              "\n",
              "      [theme=dark] .colab-df-generate {\n",
              "        background-color: #3B4455;\n",
              "        fill: #D2E3FC;\n",
              "      }\n",
              "\n",
              "      [theme=dark] .colab-df-generate:hover {\n",
              "        background-color: #434B5C;\n",
              "        box-shadow: 0px 1px 3px 1px rgba(0, 0, 0, 0.15);\n",
              "        filter: drop-shadow(0px 1px 2px rgba(0, 0, 0, 0.3));\n",
              "        fill: #FFFFFF;\n",
              "      }\n",
              "    </style>\n",
              "    <button class=\"colab-df-generate\" onclick=\"generateWithVariable('college')\"\n",
              "            title=\"Generate code using this dataframe.\"\n",
              "            style=\"display:none;\">\n",
              "\n",
              "  <svg xmlns=\"http://www.w3.org/2000/svg\" height=\"24px\"viewBox=\"0 0 24 24\"\n",
              "       width=\"24px\">\n",
              "    <path d=\"M7,19H8.4L18.45,9,17,7.55,7,17.6ZM5,21V16.75L18.45,3.32a2,2,0,0,1,2.83,0l1.4,1.43a1.91,1.91,0,0,1,.58,1.4,1.91,1.91,0,0,1-.58,1.4L9.25,21ZM18.45,9,17,7.55Zm-12,3A5.31,5.31,0,0,0,4.9,8.1,5.31,5.31,0,0,0,1,6.5,5.31,5.31,0,0,0,4.9,4.9,5.31,5.31,0,0,0,6.5,1,5.31,5.31,0,0,0,8.1,4.9,5.31,5.31,0,0,0,12,6.5,5.46,5.46,0,0,0,6.5,12Z\"/>\n",
              "  </svg>\n",
              "    </button>\n",
              "    <script>\n",
              "      (() => {\n",
              "      const buttonEl =\n",
              "        document.querySelector('#id_52e827ed-f37a-4cd6-8756-5760acff998a button.colab-df-generate');\n",
              "      buttonEl.style.display =\n",
              "        google.colab.kernel.accessAllowed ? 'block' : 'none';\n",
              "\n",
              "      buttonEl.onclick = () => {\n",
              "        google.colab.notebook.generateWithVariable('college');\n",
              "      }\n",
              "      })();\n",
              "    </script>\n",
              "  </div>\n",
              "\n",
              "    </div>\n",
              "  </div>\n"
            ],
            "application/vnd.google.colaboratory.intrinsic+json": {
              "type": "dataframe",
              "variable_name": "college",
              "summary": "{\n  \"name\": \"college\",\n  \"rows\": 777,\n  \"fields\": [\n    {\n      \"column\": \"College\",\n      \"properties\": {\n        \"dtype\": \"string\",\n        \"num_unique_values\": 777,\n        \"samples\": [\n          \"SUNY College at Fredonia\",\n          \"Southeast Missouri State University\",\n          \"University of Cincinnati\"\n        ],\n        \"semantic_type\": \"\",\n        \"description\": \"\"\n      }\n    },\n    {\n      \"column\": \"Private\",\n      \"properties\": {\n        \"dtype\": \"category\",\n        \"num_unique_values\": 2,\n        \"samples\": [\n          \"No\",\n          \"Yes\"\n        ],\n        \"semantic_type\": \"\",\n        \"description\": \"\"\n      }\n    },\n    {\n      \"column\": \"Apps\",\n      \"properties\": {\n        \"dtype\": \"number\",\n        \"std\": 3870,\n        \"min\": 81,\n        \"max\": 48094,\n        \"num_unique_values\": 711,\n        \"samples\": [\n          323,\n          1127\n        ],\n        \"semantic_type\": \"\",\n        \"description\": \"\"\n      }\n    },\n    {\n      \"column\": \"Accept\",\n      \"properties\": {\n        \"dtype\": \"number\",\n        \"std\": 2451,\n        \"min\": 72,\n        \"max\": 26330,\n        \"num_unique_values\": 693,\n        \"samples\": [\n          689,\n          1623\n        ],\n        \"semantic_type\": \"\",\n        \"description\": \"\"\n      }\n    },\n    {\n      \"column\": \"Enroll\",\n      \"properties\": {\n        \"dtype\": \"number\",\n        \"std\": 929,\n        \"min\": 35,\n        \"max\": 6392,\n        \"num_unique_values\": 581,\n        \"samples\": [\n          769,\n          223\n        ],\n        \"semantic_type\": \"\",\n        \"description\": \"\"\n      }\n    },\n    {\n      \"column\": \"Top10perc\",\n      \"properties\": {\n        \"dtype\": \"number\",\n        \"std\": 17,\n        \"min\": 1,\n        \"max\": 96,\n        \"num_unique_values\": 82,\n        \"samples\": [\n          67,\n          23\n        ],\n        \"semantic_type\": \"\",\n        \"description\": \"\"\n      }\n    },\n    {\n      \"column\": \"Top25perc\",\n      \"properties\": {\n        \"dtype\": \"number\",\n        \"std\": 19,\n        \"min\": 9,\n        \"max\": 100,\n        \"num_unique_values\": 89,\n        \"samples\": [\n          100,\n          65\n        ],\n        \"semantic_type\": \"\",\n        \"description\": \"\"\n      }\n    },\n    {\n      \"column\": \"F.Undergrad\",\n      \"properties\": {\n        \"dtype\": \"number\",\n        \"std\": 4850,\n        \"min\": 139,\n        \"max\": 31643,\n        \"num_unique_values\": 714,\n        \"samples\": [\n          2649,\n          2997\n        ],\n        \"semantic_type\": \"\",\n        \"description\": \"\"\n      }\n    },\n    {\n      \"column\": \"P.Undergrad\",\n      \"properties\": {\n        \"dtype\": \"number\",\n        \"std\": 1522,\n        \"min\": 1,\n        \"max\": 21836,\n        \"num_unique_values\": 566,\n        \"samples\": [\n          1344,\n          1552\n        ],\n        \"semantic_type\": \"\",\n        \"description\": \"\"\n      }\n    },\n    {\n      \"column\": \"Outstate\",\n      \"properties\": {\n        \"dtype\": \"number\",\n        \"std\": 4023,\n        \"min\": 2340,\n        \"max\": 21700,\n        \"num_unique_values\": 640,\n        \"samples\": [\n          5764,\n          6995\n        ],\n        \"semantic_type\": \"\",\n        \"description\": \"\"\n      }\n    },\n    {\n      \"column\": \"Room.Board\",\n      \"properties\": {\n        \"dtype\": \"number\",\n        \"std\": 1096,\n        \"min\": 1780,\n        \"max\": 8124,\n        \"num_unique_values\": 553,\n        \"samples\": [\n          3392,\n          3150\n        ],\n        \"semantic_type\": \"\",\n        \"description\": \"\"\n      }\n    },\n    {\n      \"column\": \"Books\",\n      \"properties\": {\n        \"dtype\": \"number\",\n        \"std\": 165,\n        \"min\": 96,\n        \"max\": 2340,\n        \"num_unique_values\": 122,\n        \"samples\": [\n          475,\n          670\n        ],\n        \"semantic_type\": \"\",\n        \"description\": \"\"\n      }\n    },\n    {\n      \"column\": \"Personal\",\n      \"properties\": {\n        \"dtype\": \"number\",\n        \"std\": 677,\n        \"min\": 250,\n        \"max\": 6800,\n        \"num_unique_values\": 294,\n        \"samples\": [\n          250,\n          1000\n        ],\n        \"semantic_type\": \"\",\n        \"description\": \"\"\n      }\n    },\n    {\n      \"column\": \"PhD\",\n      \"properties\": {\n        \"dtype\": \"number\",\n        \"std\": 16,\n        \"min\": 8,\n        \"max\": 103,\n        \"num_unique_values\": 78,\n        \"samples\": [\n          61,\n          70\n        ],\n        \"semantic_type\": \"\",\n        \"description\": \"\"\n      }\n    },\n    {\n      \"column\": \"Terminal\",\n      \"properties\": {\n        \"dtype\": \"number\",\n        \"std\": 14,\n        \"min\": 24,\n        \"max\": 100,\n        \"num_unique_values\": 65,\n        \"samples\": [\n          43,\n          54\n        ],\n        \"semantic_type\": \"\",\n        \"description\": \"\"\n      }\n    },\n    {\n      \"column\": \"S.F.Ratio\",\n      \"properties\": {\n        \"dtype\": \"number\",\n        \"std\": 3.958349135205549,\n        \"min\": 2.5,\n        \"max\": 39.8,\n        \"num_unique_values\": 173,\n        \"samples\": [\n          25.3,\n          14.0\n        ],\n        \"semantic_type\": \"\",\n        \"description\": \"\"\n      }\n    },\n    {\n      \"column\": \"perc.alumni\",\n      \"properties\": {\n        \"dtype\": \"number\",\n        \"std\": 12,\n        \"min\": 0,\n        \"max\": 64,\n        \"num_unique_values\": 61,\n        \"samples\": [\n          12,\n          11\n        ],\n        \"semantic_type\": \"\",\n        \"description\": \"\"\n      }\n    },\n    {\n      \"column\": \"Expend\",\n      \"properties\": {\n        \"dtype\": \"number\",\n        \"std\": 5221,\n        \"min\": 3186,\n        \"max\": 56233,\n        \"num_unique_values\": 744,\n        \"samples\": [\n          17500,\n          13705\n        ],\n        \"semantic_type\": \"\",\n        \"description\": \"\"\n      }\n    },\n    {\n      \"column\": \"Grad.Rate\",\n      \"properties\": {\n        \"dtype\": \"number\",\n        \"std\": 17,\n        \"min\": 10,\n        \"max\": 118,\n        \"num_unique_values\": 81,\n        \"samples\": [\n          35,\n          60\n        ],\n        \"semantic_type\": \"\",\n        \"description\": \"\"\n      }\n    },\n    {\n      \"column\": \"Elite\",\n      \"properties\": {\n        \"dtype\": \"category\",\n        \"num_unique_values\": 2,\n        \"samples\": [\n          \"Yes\",\n          \"No\"\n        ],\n        \"semantic_type\": \"\",\n        \"description\": \"\"\n      }\n    }\n  ]\n}"
            }
          },
          "metadata": {},
          "execution_count": 74
        }
      ]
    },
    {
      "cell_type": "code",
      "source": [
        "fig, ax = plt.subplots(2,2, figsize=(12,8))\n",
        "college[\"Outstate\"].plot.hist(ax=ax[0,0], bins=20, color='skyblue', edgecolor='black')\n",
        "ax[0,0].set_xlabel(\"Outstate\")\n",
        "ax[0,0].set_ylabel(\"Count\")\n",
        "ax[0,0].set_title(\"Histogram of Outstate Tuition\")\n",
        "\n",
        "college[\"Apps\"].plot.hist(ax=ax[0,1], bins=20, color='lightgreen', edgecolor='black')\n",
        "ax[0,1].set_xlabel(\"Apps\")\n",
        "ax[0,1].set_ylabel(\"Count\")\n",
        "ax[0,1].set_title(\"Histogram of Applications\")\n",
        "\n",
        "college[\"Accept\"].plot.hist(ax=ax[1,0], bins=20, color='salmon', edgecolor='black')\n",
        "ax[1,0].set_xlabel(\"Accepted\")\n",
        "ax[1,0].set_ylabel(\"Count\")\n",
        "ax[1,0].set_title(\"Histogram of Accepted Students\")\n",
        "\n",
        "college[\"Apps\"].groupby(college[\"Elite\"]).plot.hist(ax=ax[1,1], bins=20, alpha=0.5, legend=True)\n",
        "ax[1,1].set_xlabel(\"Apps\")\n",
        "ax[1,1].set_ylabel(\"Count\")\n",
        "ax[1,1].set_title(\"Apps by Elite Status\")\n",
        "\n",
        "plt.tight_layout()\n",
        "plt.show()"
      ],
      "metadata": {
        "colab": {
          "base_uri": "https://localhost:8080/",
          "height": 863
        },
        "id": "RXFRcYa2xLYH",
        "outputId": "644092c7-97fb-4125-8751-ac8033ac366a"
      },
      "execution_count": null,
      "outputs": [
        {
          "output_type": "stream",
          "name": "stderr",
          "text": [
            "/tmp/ipython-input-81-653909988.py:17: FutureWarning: The default of observed=False is deprecated and will be changed to True in a future version of pandas. Pass observed=False to retain current behavior or observed=True to adopt the future default and silence this warning.\n",
            "  college[\"Apps\"].groupby(college[\"Elite\"]).plot.hist(ax=ax[1,1], bins=20, alpha=0.5, legend=True)\n"
          ]
        },
        {
          "output_type": "display_data",
          "data": {
            "text/plain": [
              "<Figure size 1200x800 with 4 Axes>"
            ],
            "image/png": "[encoded data removed]"
          },
          "metadata": {}
        }
      ]
    }
  ]
}